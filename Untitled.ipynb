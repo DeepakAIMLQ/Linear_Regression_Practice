{
 "cells": [
  {
   "cell_type": "markdown",
   "id": "5c2c9a4c",
   "metadata": {},
   "source": [
    "# Use Case: Predicting Temperature"
   ]
  },
  {
   "cell_type": "code",
   "execution_count": 1,
   "id": "b7144cc4",
   "metadata": {},
   "outputs": [],
   "source": [
    "#Import Library"
   ]
  },
  {
   "cell_type": "code",
   "execution_count": null,
   "id": "dc69a14a",
   "metadata": {},
   "outputs": [],
   "source": []
  },
  {
   "cell_type": "code",
   "execution_count": 2,
   "id": "ae5a4f4a",
   "metadata": {},
   "outputs": [],
   "source": [
    "#Data Loading"
   ]
  },
  {
   "cell_type": "code",
   "execution_count": null,
   "id": "299284cf",
   "metadata": {},
   "outputs": [],
   "source": []
  },
  {
   "cell_type": "code",
   "execution_count": 3,
   "id": "60f1080a",
   "metadata": {},
   "outputs": [],
   "source": [
    "#Data Profiling"
   ]
  },
  {
   "cell_type": "code",
   "execution_count": null,
   "id": "64e110f9",
   "metadata": {},
   "outputs": [],
   "source": []
  },
  {
   "cell_type": "code",
   "execution_count": 4,
   "id": "629ff1dd",
   "metadata": {},
   "outputs": [],
   "source": [
    "#Writeup on Data analysis in UTF-8 (Engligh) format"
   ]
  },
  {
   "cell_type": "code",
   "execution_count": null,
   "id": "3bba01d6",
   "metadata": {},
   "outputs": [],
   "source": []
  },
  {
   "cell_type": "code",
   "execution_count": 5,
   "id": "3686a3c1",
   "metadata": {},
   "outputs": [],
   "source": [
    "#Imputation: Replace NA if any"
   ]
  },
  {
   "cell_type": "code",
   "execution_count": null,
   "id": "689d30ec",
   "metadata": {},
   "outputs": [],
   "source": []
  },
  {
   "cell_type": "code",
   "execution_count": 6,
   "id": "71d2d711",
   "metadata": {},
   "outputs": [],
   "source": [
    "#Data Normalization"
   ]
  },
  {
   "cell_type": "code",
   "execution_count": null,
   "id": "bd6774fb",
   "metadata": {},
   "outputs": [],
   "source": []
  },
  {
   "cell_type": "code",
   "execution_count": 7,
   "id": "4f621e50",
   "metadata": {},
   "outputs": [],
   "source": [
    "#Check Multicollinarity"
   ]
  },
  {
   "cell_type": "code",
   "execution_count": null,
   "id": "4e4503d7",
   "metadata": {},
   "outputs": [],
   "source": []
  },
  {
   "cell_type": "code",
   "execution_count": 8,
   "id": "01bda7d4",
   "metadata": {},
   "outputs": [],
   "source": [
    "#Build Model (LR)"
   ]
  },
  {
   "cell_type": "code",
   "execution_count": null,
   "id": "1f8b4390",
   "metadata": {},
   "outputs": [],
   "source": []
  },
  {
   "cell_type": "code",
   "execution_count": 9,
   "id": "b36e0680",
   "metadata": {},
   "outputs": [],
   "source": [
    "#Save Model"
   ]
  },
  {
   "cell_type": "code",
   "execution_count": null,
   "id": "fcba9ef7",
   "metadata": {},
   "outputs": [],
   "source": []
  },
  {
   "cell_type": "code",
   "execution_count": 10,
   "id": "31e57f0a",
   "metadata": {},
   "outputs": [],
   "source": [
    "#Check Model accuracy"
   ]
  },
  {
   "cell_type": "code",
   "execution_count": null,
   "id": "4ab66464",
   "metadata": {},
   "outputs": [],
   "source": []
  },
  {
   "cell_type": "code",
   "execution_count": 11,
   "id": "0b5c46e1",
   "metadata": {},
   "outputs": [],
   "source": [
    "#Test model with 10 Use Cases"
   ]
  },
  {
   "cell_type": "code",
   "execution_count": null,
   "id": "75c8ac96",
   "metadata": {},
   "outputs": [],
   "source": []
  },
  {
   "cell_type": "code",
   "execution_count": null,
   "id": "dd118677",
   "metadata": {},
   "outputs": [],
   "source": []
  }
 ],
 "metadata": {
  "kernelspec": {
   "display_name": "Python 3 (ipykernel)",
   "language": "python",
   "name": "python3"
  },
  "language_info": {
   "codemirror_mode": {
    "name": "ipython",
    "version": 3
   },
   "file_extension": ".py",
   "mimetype": "text/x-python",
   "name": "python",
   "nbconvert_exporter": "python",
   "pygments_lexer": "ipython3",
   "version": "3.9.7"
  }
 },
 "nbformat": 4,
 "nbformat_minor": 5
}
